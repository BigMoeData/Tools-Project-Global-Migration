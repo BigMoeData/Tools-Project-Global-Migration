{
 "cells": [
  {
   "cell_type": "code",
   "execution_count": 3,
   "metadata": {
    "collapsed": true,
    "pycharm": {
     "name": "#%%\n"
    }
   },
   "outputs": [
    {
     "name": "stdout",
     "output_type": "stream",
     "text": [
      "The watermark extension is already loaded. To reload it, use:\n",
      "  %reload_ext watermark\n",
      "Python implementation: CPython\n",
      "Python version       : 3.10.8\n",
      "IPython version      : 8.8.0\n",
      "\n",
      "os    : unknown\n",
      "pandas: 1.5.2\n",
      "\n"
     ]
    }
   ],
   "source": [
    "import os\n",
    "import pandas as pd\n",
    "\n",
    "import warnings\n",
    "\n",
    "%load_ext watermark\n",
    "\n",
    "%watermark -v -p os,pandas"
   ]
  },
  {
   "cell_type": "markdown",
   "source": [
    "Python implementation: CPython\n",
    "Python version       : 3.10.8\n",
    "IPython version      : 8.8.0\n",
    "\n",
    "os    : unknown\n",
    "pandas: 1.5.2\n"
   ],
   "metadata": {
    "collapsed": false,
    "pycharm": {
     "name": "#%% md\n"
    }
   }
  },
  {
   "cell_type": "code",
   "execution_count": 2,
   "outputs": [],
   "source": [
    "warnings.filterwarnings(\"ignore\")\n",
    "#warnings.filterwarnings(\"defalt\")"
   ],
   "metadata": {
    "collapsed": false,
    "pycharm": {
     "name": "#%%\n"
    }
   }
  },
  {
   "cell_type": "code",
   "execution_count": 3,
   "outputs": [],
   "source": [
    "# Global Variables\n",
    "\n",
    "data_file_path = 'Data'\n",
    "image_file_path = 'Image'\n"
   ],
   "metadata": {
    "collapsed": false,
    "pycharm": {
     "name": "#%%\n"
    }
   }
  },
  {
   "cell_type": "code",
   "execution_count": 4,
   "outputs": [
    {
     "name": "stdout",
     "output_type": "stream",
     "text": [
      "global_data_df   :  ['year', 'population', 'migration_outflows', 'migration_inflows', 'migration_flow_percent', 'migration_net', 'migration_net_percent']\n",
      "migration_df   :  ['country', 'year', 'population', 'migration_count', 'migration_count_change', 'migration_percent', 'migration_percent_change']\n"
     ]
    }
   ],
   "source": [
    "global_data_df = pd.read_csv(os.path.join(data_file_path, \"Master_Global_Data_2000_2019.csv\"))\n",
    "migration_df = pd.read_csv(os.path.join(data_file_path, \"Master_Migration_2000_2019.csv\"))\n"
   ],
   "metadata": {
    "collapsed": false,
    "pycharm": {
     "name": "#%%\n"
    }
   }
  },
  {
   "cell_type": "code",
   "execution_count": 39,
   "outputs": [],
   "source": [
    "def generate_range_data (start_year, stop_year) :\n",
    "\n",
    "    average_data_df = pd.DataFrame({'country': migration_df['country'].unique()})\n",
    "    average_data_df['years'] = f\"{start_year} - {stop_year}\"\n",
    "\n",
    "    filtered_migration_df = migration_df[(migration_df['year'] >= start_year) & (migration_df['year'] <= stop_year)]\n",
    "\n",
    "    average_data_df['population']        = average_data_df['country'].map(filtered_migration_df.groupby('country')['population'].mean())\n",
    "    average_data_df['migration_count']   = average_data_df['country'].map(filtered_migration_df.groupby('country')['migration_count'].mean())\n",
    "    average_data_df['migration_count_change'] = average_data_df['country'].map(filtered_migration_df.groupby('country')['migration_count_change'].mean())\n",
    "    average_data_df['migration_percent'] = average_data_df['country'].map(filtered_migration_df.groupby('country')['migration_percent'].mean())\n",
    "    average_data_df['migration_percent_change'] = average_data_df['country'].map(filtered_migration_df.groupby('country')['migration_percent_change'].mean())\n",
    "\n",
    "    # Save to Master csv file\n",
    "\n",
    "    file_name = f\"Migration_{start_year}_{stop_year}.csv\"\n",
    "    average_data_df.to_csv ( os.path.join ( data_file_path, file_name ), index=False  )\n",
    "    print(\"average_data_df saved to  : \", file_name)\n",
    "\n"
   ],
   "metadata": {
    "collapsed": false,
    "pycharm": {
     "name": "#%%\n"
    }
   }
  },
  {
   "cell_type": "code",
   "execution_count": 51,
   "outputs": [
    {
     "name": "stdout",
     "output_type": "stream",
     "text": [
      "average_data_df saved to  :  Migration_2000_2019.csv\n",
      "average_data_df saved to  :  Migration_2006_2016.csv\n",
      "average_data_df saved to  :  Migration_2000_2004.csv\n",
      "average_data_df saved to  :  Migration_2005_2009.csv\n",
      "average_data_df saved to  :  Migration_2010_2014.csv\n",
      "average_data_df saved to  :  Migration_2015_2019.csv\n",
      "average_data_df saved to  :  Migration_2005_2007.csv\n",
      "average_data_df saved to  :  Migration_2008_2010.csv\n",
      "average_data_df saved to  :  Migration_2011_2013.csv\n",
      "average_data_df saved to  :  Migration_2014_2016.csv\n",
      "average_data_df saved to  :  Migration_2007_2011.csv\n",
      "average_data_df saved to  :  Migration_2010_2014.csv\n"
     ]
    }
   ],
   "source": [
    "generate_range_data (2000, 2019) # Full Range\n",
    "\n",
    "generate_range_data (2006, 2016) # Middle Decade\n",
    "\n",
    "generate_range_data (2000, 2004) # 5 Yr blocks\n",
    "generate_range_data (2005, 2009)\n",
    "generate_range_data (2010, 2014)\n",
    "generate_range_data (2015, 2019)\n",
    "\n",
    "generate_range_data (2005, 2007) # Middle Decade 3 Yr blocks\n",
    "generate_range_data (2008, 2010)\n",
    "generate_range_data (2011, 2013)\n",
    "generate_range_data (2014, 2016)\n",
    "\n",
    "generate_range_data (2007, 2011) # Financial Crisis\n",
    "generate_range_data (2010, 2014) # Syrian War Crisis\n"
   ],
   "metadata": {
    "collapsed": false,
    "pycharm": {
     "name": "#%%\n"
    }
   }
  }
 ],
 "metadata": {
  "kernelspec": {
   "display_name": "Python 3",
   "language": "python",
   "name": "python3"
  },
  "language_info": {
   "codemirror_mode": {
    "name": "ipython",
    "version": 2
   },
   "file_extension": ".py",
   "mimetype": "text/x-python",
   "name": "python",
   "nbconvert_exporter": "python",
   "pygments_lexer": "ipython2",
   "version": "2.7.6"
  }
 },
 "nbformat": 4,
 "nbformat_minor": 0
}