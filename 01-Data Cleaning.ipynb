{
 "cells": [
  {
   "cell_type": "code",
   "execution_count": 4,
   "metadata": {
    "collapsed": true,
    "pycharm": {
     "name": "#%%\n"
    }
   },
   "outputs": [
    {
     "name": "stdout",
     "output_type": "stream",
     "text": [
      "Python implementation: CPython\n",
      "Python version       : 3.10.8\n",
      "IPython version      : 8.8.0\n",
      "\n",
      "os               : unknown\n",
      "sys              : 3.10.8 (main, Nov 24 2022, 08:08:27) [Clang 14.0.6 ]\n",
      "pandas           : 1.5.2\n",
      "pandas_datareader: 0.10.0\n",
      "\n"
     ]
    }
   ],
   "source": [
    "import os\n",
    "import sys\n",
    "\n",
    "import pandas as pd\n",
    "from pandas_datareader import wb\n",
    "\n",
    "import warnings\n",
    "\n",
    "# %load_ext watermark\n",
    "\n",
    "%watermark -v -p os,sys,pandas,pandas_datareader"
   ]
  },
  {
   "cell_type": "markdown",
   "source": [
    "Python implementation: CPython\n",
    "Python version       : 3.10.8\n",
    "IPython version      : 8.8.0\n",
    "\n",
    "os               : unknown\n",
    "sys              : 3.10.8 (main, Nov 24 2022, 08:08:27) [Clang 14.0.6 ]\n",
    "pandas           : 1.5.2\n",
    "pandas_datareader: 0.10.0\n"
   ],
   "metadata": {
    "collapsed": false,
    "pycharm": {
     "name": "#%% md\n"
    }
   }
  },
  {
   "cell_type": "code",
   "execution_count": 2,
   "outputs": [],
   "source": [
    "warnings.filterwarnings(\"ignore\")\n",
    "#warnings.filterwarnings(\"defalt\")"
   ],
   "metadata": {
    "collapsed": false,
    "pycharm": {
     "name": "#%%\n"
    }
   }
  },
  {
   "cell_type": "code",
   "execution_count": 3,
   "outputs": [],
   "source": [
    "# Global Variables\n",
    "\n",
    "data_file_path = 'Data'\n",
    "image_file_path = 'Image'\n"
   ],
   "metadata": {
    "collapsed": false,
    "pycharm": {
     "name": "#%%\n"
    }
   }
  },
  {
   "cell_type": "code",
   "execution_count": 4,
   "outputs": [],
   "source": [
    "wb_countries_df = wb.get_countries()\n",
    "\n",
    "countries_only_list = wb_countries_df[wb_countries_df['region']!='Aggregates']['name'].reset_index(drop=True)\n"
   ],
   "metadata": {
    "collapsed": false,
    "pycharm": {
     "name": "#%%\n"
    }
   }
  },
  {
   "cell_type": "code",
   "execution_count": 5,
   "outputs": [],
   "source": [
    "migration = wb.WorldBankReader(symbols=['SM.POP.NETM'], start=2000, end=2019, countries='all').read().reset_index()\n",
    "population = wb.WorldBankReader(symbols=['SP.POP.TOTL'], start=2000, end=2019, countries='all').read().reset_index()\n"
   ],
   "metadata": {
    "collapsed": false,
    "pycharm": {
     "name": "#%%\n"
    }
   }
  },
  {
   "cell_type": "code",
   "execution_count": 42,
   "outputs": [],
   "source": [
    "with open(os.path.join ( data_file_path, 'data_stats.txt' ) , 'w') as text_file:\n",
    "    sys.stdout = text_file\n",
    "\n",
    "    print(\"migration   : \", migration.columns.tolist())\n",
    "    print(\"\")\n",
    "    print(\"migration.info() : \")\n",
    "    print(\"\")\n",
    "    print(migration.info())\n",
    "    print(\"\")\n",
    "    print(\"migration.describe() : \")\n",
    "    print(\"\")\n",
    "    print(migration.describe())\n",
    "    print(\"\")\n",
    "\n",
    "# Reset stdout to its original value\n",
    "sys.stdout = sys.__stdout__"
   ],
   "metadata": {
    "collapsed": false,
    "pycharm": {
     "name": "#%%\n"
    }
   }
  },
  {
   "cell_type": "code",
   "execution_count": 43,
   "outputs": [],
   "source": [
    "with open(os.path.join ( data_file_path, 'data_stats.txt' ) , 'a') as text_file:\n",
    "    sys.stdout = text_file\n",
    "\n",
    "    print(\"population   : \", population.columns.tolist())\n",
    "    print(\"\")\n",
    "    print(\"population.info() : \")\n",
    "    print(\"\")\n",
    "    print(population.info())\n",
    "    print(\"\")\n",
    "    print(\"population.describe() : \")\n",
    "    print(\"\")\n",
    "    print(population.describe())\n",
    "\n",
    "# Reset stdout to its original value\n",
    "sys.stdout = sys.__stdout__"
   ],
   "metadata": {
    "collapsed": false,
    "pycharm": {
     "name": "#%%\n"
    }
   }
  },
  {
   "cell_type": "code",
   "execution_count": 16,
   "outputs": [
    {
     "name": "stdout",
     "output_type": "stream",
     "text": [
      "          country  year  population  migration_count\n",
      "0     Afghanistan  2000  19542982.0       -1007135.0\n",
      "1     Afghanistan  2001  19688632.0        -192286.0\n",
      "2     Afghanistan  2002  21000256.0        1327074.0\n",
      "3     Afghanistan  2003  22645130.0         388632.0\n",
      "4     Afghanistan  2004  23553551.0        -248616.0\n",
      "...           ...   ...         ...              ...\n",
      "4335     Zimbabwe  2015  14154937.0         -59918.0\n",
      "4336     Zimbabwe  2016  14452704.0         -59918.0\n",
      "4337     Zimbabwe  2017  14751101.0         -59918.0\n",
      "4338     Zimbabwe  2018  15052184.0         -59918.0\n",
      "4339     Zimbabwe  2019  15354608.0         -59918.0\n",
      "\n",
      "[4340 rows x 4 columns]\n"
     ]
    }
   ],
   "source": [
    "migration_df = pd.merge(population, migration, on=['country', 'year'], how='outer')\n",
    "\n",
    "migration_df = migration_df[migration_df['country'].isin(countries_only_list)] # Trim to only countries\n",
    "\n",
    "migration_df.rename(columns={'SP.POP.TOTL': 'population', 'SM.POP.NETM': 'migration_count'}, inplace = True)\n",
    "\n",
    "migration_df['year'] = migration_df['year'].astype(int) # Make int so you can sort\n",
    "\n",
    "migration_df.sort_values(by = ['country', 'year'], inplace = True) # sort\n",
    "migration_df.reset_index(drop = True, inplace = True) # Reindex dropping old index\n",
    "\n",
    "print(migration_df)"
   ],
   "metadata": {
    "collapsed": false,
    "pycharm": {
     "name": "#%%\n"
    }
   }
  },
  {
   "cell_type": "code",
   "execution_count": 18,
   "outputs": [
    {
     "name": "stdout",
     "output_type": "stream",
     "text": [
      "migration_df   :  ['country', 'year', 'population', 'migration_count', 'migration_count_change', 'migration_percent', 'migration_percent_change']\n",
      "          country  year  population  migration_count  migration_count_change  \\\n",
      "0     Afghanistan  2000  19542982.0       -1007135.0                     NaN   \n",
      "1     Afghanistan  2001  19688632.0        -192286.0                814849.0   \n",
      "2     Afghanistan  2002  21000256.0        1327074.0               1519360.0   \n",
      "3     Afghanistan  2003  22645130.0         388632.0               -938442.0   \n",
      "4     Afghanistan  2004  23553551.0        -248616.0               -637248.0   \n",
      "...           ...   ...         ...              ...                     ...   \n",
      "4335     Zimbabwe  2015  14154937.0         -59918.0                     0.0   \n",
      "4336     Zimbabwe  2016  14452704.0         -59918.0                     0.0   \n",
      "4337     Zimbabwe  2017  14751101.0         -59918.0                     0.0   \n",
      "4338     Zimbabwe  2018  15052184.0         -59918.0                     0.0   \n",
      "4339     Zimbabwe  2019  15354608.0         -59918.0                     0.0   \n",
      "\n",
      "      migration_percent  migration_percent_change  \n",
      "0             -5.153436                       NaN  \n",
      "1             -0.976635                  4.176801  \n",
      "2              6.319323                  7.295958  \n",
      "3              1.716184                 -4.603139  \n",
      "4             -1.055535                 -2.771719  \n",
      "...                 ...                       ...  \n",
      "4335          -0.423301                  0.009140  \n",
      "4336          -0.414580                  0.008721  \n",
      "4337          -0.406193                  0.008386  \n",
      "4338          -0.398068                  0.008125  \n",
      "4339          -0.390228                  0.007840  \n",
      "\n",
      "[4340 rows x 7 columns]\n"
     ]
    }
   ],
   "source": [
    "# Add calculated features to migration_df\n",
    "\n",
    "migration_df['migration_count_change'] = migration_df.groupby('country')['migration_count'].diff()\n",
    "\n",
    "migration_df['migration_percent'] = migration_df['migration_count'] / migration_df['population'] * 100\n",
    "\n",
    "migration_df['migration_percent_change'] = migration_df.groupby('country')['migration_percent'].diff()\n",
    "\n",
    "print(\"migration_df   : \", migration_df.columns.tolist())\n",
    "print(migration_df)\n"
   ],
   "metadata": {
    "collapsed": false,
    "pycharm": {
     "name": "#%%\n"
    }
   }
  },
  {
   "cell_type": "code",
   "execution_count": 19,
   "outputs": [
    {
     "name": "stdout",
     "output_type": "stream",
     "text": [
      "migration_df   :  ['country', 'year', 'population', 'migration_count', 'migration_count_change', 'migration_percent', 'migration_percent_change']\n"
     ]
    }
   ],
   "source": [
    "# Save to Master csv file\n",
    "print(\"migration_df   : \", migration_df.columns.tolist())\n",
    "\n",
    "migration_df.to_csv ( os.path.join ( data_file_path, \"Master_Global_Data_2000_2019.csv\" ), index=False  )"
   ],
   "metadata": {
    "collapsed": false,
    "pycharm": {
     "name": "#%%\n"
    }
   }
  },
  {
   "cell_type": "code",
   "execution_count": 21,
   "outputs": [
    {
     "name": "stdout",
     "output_type": "stream",
     "text": [
      "global_data   :  ['year', 'population', 'migration_outflows', 'migration_inflows', 'migration_flow_percent', 'migration_net', 'migration_net_percent']\n",
      "    year    population  migration_outflows  migration_inflows  \\\n",
      "0   2000  6.122149e+09          -6080517.0          6094612.0   \n",
      "1   2001  6.204009e+09          -5230907.0          5226329.0   \n",
      "2   2002  6.285683e+09          -6407331.0          6400746.0   \n",
      "3   2003  6.366908e+09          -5928647.0          5925313.0   \n",
      "4   2004  6.448284e+09          -5694224.0          5698402.0   \n",
      "5   2005  6.529978e+09          -6497101.0          6504742.0   \n",
      "6   2006  6.612296e+09          -8222083.0          8219823.0   \n",
      "7   2007  6.694976e+09          -8515480.0          8514608.0   \n",
      "8   2008  6.778716e+09          -7877773.0          7884360.0   \n",
      "9   2009  6.862780e+09          -6594817.0          6602539.0   \n",
      "10  2010  6.946900e+09          -5394260.0          5392038.0   \n",
      "11  2011  7.030814e+09          -6555565.0          6521010.0   \n",
      "12  2012  7.118226e+09          -6945929.0          6914853.0   \n",
      "13  2013  7.206387e+09          -8101811.0          8068694.0   \n",
      "14  2014  7.294578e+09          -7928151.0          7890016.0   \n",
      "15  2015  7.381816e+09          -7477933.0          7450601.0   \n",
      "16  2016  7.468649e+09          -6875931.0          6848804.0   \n",
      "17  2017  7.554668e+09          -6462184.0          6429392.0   \n",
      "18  2018  7.638202e+09          -7099399.0          7066353.0   \n",
      "19  2019  7.719091e+09          -6344660.0          6312754.0   \n",
      "\n",
      "    migration_flow_percent  migration_net  migration_net_percent  \n",
      "0                 0.099550        14095.0           2.302296e-06  \n",
      "1                 0.084241        -4578.0          -7.379100e-07  \n",
      "2                 0.101831        -6585.0          -1.047619e-06  \n",
      "3                 0.093064        -3334.0          -5.236451e-07  \n",
      "4                 0.088371         4178.0           6.479243e-07  \n",
      "5                 0.099614         7641.0           1.170142e-06  \n",
      "6                 0.124311        -2260.0          -3.417875e-07  \n",
      "7                 0.127179         -872.0          -1.302469e-07  \n",
      "8                 0.116311         6587.0           9.717180e-07  \n",
      "9                 0.096208         7722.0           1.125200e-06  \n",
      "10                0.077618        -2222.0          -3.198549e-07  \n",
      "11                0.092749       -34555.0          -4.914794e-06  \n",
      "12                0.097143       -31076.0          -4.365694e-06  \n",
      "13                0.111966       -33117.0          -4.595507e-06  \n",
      "14                0.108163       -38135.0          -5.227855e-06  \n",
      "15                0.100932       -27332.0          -3.702612e-06  \n",
      "16                0.091701       -27127.0          -3.632116e-06  \n",
      "17                0.085105       -32792.0          -4.340627e-06  \n",
      "18                0.092513       -33046.0          -4.326411e-06  \n",
      "19                0.081781       -31906.0          -4.133388e-06  \n"
     ]
    }
   ],
   "source": [
    "# Calculate global annual totals and consistency check net_flow ~ zero\n",
    "\n",
    "global_data = pd.DataFrame({'year': range(2000, 2020)})\n",
    "\n",
    "global_data['population'] = migration_df.groupby('year')['population'].sum().reset_index()['population']\n",
    "\n",
    "# Filter the migration data to include only rows with negative migration counts\n",
    "migration_outflows_df = migration_df[migration_df['migration_count'] < 0]\n",
    "migration_inflows_df  = migration_df[migration_df['migration_count'] > 0]\n",
    "\n",
    "# Group by year and calculate the sum of migration counts\n",
    "migration_outflows_total = migration_outflows_df.groupby('year')['migration_count'].sum().reset_index()\n",
    "migration_inflows_total = migration_inflows_df.groupby('year')['migration_count'].sum().reset_index()\n",
    "\n",
    "global_data['migration_outflows'] = migration_outflows_total['migration_count']\n",
    "global_data['migration_inflows'] = migration_inflows_total['migration_count']\n",
    "global_data['migration_flow_percent'] = global_data['migration_inflows'] / global_data['population'] * 100\n",
    "\n",
    "global_data['migration_net'] = migration_df.groupby('year')['migration_count'].sum().reset_index()['migration_count']\n",
    "\n",
    "global_data['migration_net_percent']  = global_data['migration_net'] / global_data['population']\n",
    "\n",
    "print(\"global_data   : \", global_data.columns.tolist())\n",
    "\n",
    "print(global_data.head(25))\n",
    "\n"
   ],
   "metadata": {
    "collapsed": false,
    "pycharm": {
     "name": "#%%\n"
    }
   }
  },
  {
   "cell_type": "code",
   "execution_count": 22,
   "outputs": [
    {
     "name": "stdout",
     "output_type": "stream",
     "text": [
      "global_data   :  ['year', 'population', 'migration_outflows', 'migration_inflows', 'migration_flow_percent', 'migration_net', 'migration_net_percent']\n"
     ]
    }
   ],
   "source": [
    "print(\"global_data   : \", global_data.columns.tolist())\n",
    "\n",
    "global_data.to_csv ( os.path.join ( data_file_path, \"Master_Global_Data_2000_2019.csv\" ), index=False  )\n"
   ],
   "metadata": {
    "collapsed": false,
    "pycharm": {
     "name": "#%%\n"
    }
   }
  },
  {
   "cell_type": "code",
   "execution_count": null,
   "outputs": [],
   "source": [],
   "metadata": {
    "collapsed": false,
    "pycharm": {
     "name": "#%%\n"
    }
   }
  }
 ],
 "metadata": {
  "kernelspec": {
   "display_name": "Python 3",
   "language": "python",
   "name": "python3"
  },
  "language_info": {
   "codemirror_mode": {
    "name": "ipython",
    "version": 2
   },
   "file_extension": ".py",
   "mimetype": "text/x-python",
   "name": "python",
   "nbconvert_exporter": "python",
   "pygments_lexer": "ipython2",
   "version": "2.7.6"
  }
 },
 "nbformat": 4,
 "nbformat_minor": 0
}